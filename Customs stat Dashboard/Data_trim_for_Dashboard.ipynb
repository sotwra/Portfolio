{
 "cells": [
  {
   "cell_type": "markdown",
   "metadata": {},
   "source": [
    "# Дашборд \"Экспорт минеральных удобрений в 2018-2019 гг.\"\n",
    "\n",
    "Компания-трейдер, занимающаяся промышленными химикатами, приобрела данные статистики ВЭД у консалтинговой фирмы.  \n",
    "Сведения помогут лучше понимать конъюнктуру рынка и выработать торговую стратегию. \n",
    "\n",
    "\"Сырые\" табличные данные сложны для восприятия и не годятся для быстрого анализа.  \n",
    "Руководитель отдела продаж просит подготовить информацию в удобном виде с возможнностью получать срезы.\n",
    "\n",
    "**Задача:**  \n",
    "\n",
    "Агрегировать и визуализировать данные таможенной статистики на дашборде с доступом по ссылке.   \n",
    "Обязательно отразить объёмы и цены, ключевые наравления экспорта.  \n",
    "\n",
    "**Бизнес согласовал следующие срезы данных:**\n",
    "- период (годы) \n",
    "- товарная подгруппа (вид удобрений)\n",
    "- регион поставки \n",
    "- тип перевозки (в контейнере или нет)  \n",
    "\n",
    "Дашборд доступен по ссылке  \n",
    "https://datalens.yandex/o8pv5nlhk1wcc "
   ]
  },
  {
   "cell_type": "markdown",
   "metadata": {},
   "source": [
    "## План работы\n",
    "\n",
    "1. Загрузить и проверить данные\n",
    "\n",
    "2. Подготовить файл-витрину данных для передачи в дашборд\n",
    "    - объединить файлы\n",
    "    - определить перечень необходимых полей и сократить данные\n",
    "    - подготовить выборку, соответствующую задаче (только экспорт, факт. сделки и т.д.)\n",
    "    - сделать группировку стран по макрорегионам\n",
    "\n",
    "3. Подготовить дашборд на облачной платформе DataLens\n"
   ]
  },
  {
   "cell_type": "markdown",
   "metadata": {},
   "source": [
    "## Описание данных\n",
    "\n",
    "Данные находятся в файлах `fertilizers_2018.csv` и `fertilizers_2019.csv`.  \n",
    "Данные за 2 полных года.\n",
    "\n",
    "Имеется множество столбцов, необходимо выделить нужные.  \n",
    "Заказчик сообщил, что:\n",
    "- его интересует только экспорт \n",
    "- только подтверждённые декларации (поле `STAT`=1)\n",
    "- приведённые цены в USD (использовать поле `G46 (Статистическая стоимость, USD.)`)"
   ]
  },
  {
   "cell_type": "markdown",
   "metadata": {},
   "source": [
    "### Подключение библиотек"
   ]
  },
  {
   "cell_type": "code",
   "execution_count": 1,
   "metadata": {},
   "outputs": [],
   "source": [
    "import pandas as pd\n",
    "import numpy as np"
   ]
  },
  {
   "cell_type": "markdown",
   "metadata": {},
   "source": [
    "### Загрузка данных"
   ]
  },
  {
   "cell_type": "code",
   "execution_count": 2,
   "metadata": {},
   "outputs": [],
   "source": [
    "df_2018 = pd.read_csv('fertilizers_2018.csv', sep=';', low_memory=False)\n",
    "df_2019 = pd.read_csv('fertilizers_2019.csv', sep=';', low_memory=False)"
   ]
  },
  {
   "cell_type": "code",
   "execution_count": 3,
   "metadata": {},
   "outputs": [
    {
     "name": "stdout",
     "output_type": "stream",
     "text": [
      "<class 'pandas.core.frame.DataFrame'>\n",
      "RangeIndex: 19449 entries, 0 to 19448\n",
      "Columns: 107 entries, ND (Номер декларации) to FIRM (Доп.информация о контрактодержателе (Росстат))\n",
      "dtypes: float64(11), int64(19), object(77)\n",
      "memory usage: 15.9+ MB\n"
     ]
    }
   ],
   "source": [
    "df_2018.info()"
   ]
  },
  {
   "cell_type": "code",
   "execution_count": 4,
   "metadata": {},
   "outputs": [
    {
     "name": "stdout",
     "output_type": "stream",
     "text": [
      "<class 'pandas.core.frame.DataFrame'>\n",
      "RangeIndex: 21670 entries, 0 to 21669\n",
      "Columns: 107 entries, ND (Номер декларации) to FIRM (Доп.информация о контрактодержателе (Росстат))\n",
      "dtypes: float64(19), int64(11), object(77)\n",
      "memory usage: 17.7+ MB\n"
     ]
    }
   ],
   "source": [
    "df_2019.info()"
   ]
  },
  {
   "cell_type": "code",
   "execution_count": 5,
   "metadata": {},
   "outputs": [
    {
     "name": "stdout",
     "output_type": "stream",
     "text": [
      "Всего строк в двух файлах: 41119\n"
     ]
    }
   ],
   "source": [
    "print(\"Всего строк в двух файлах:\", df_2018.shape[0] + df_2019.shape[0])"
   ]
  },
  {
   "cell_type": "markdown",
   "metadata": {},
   "source": [
    "- Всего 41 тыс. строк - отлично, это ниже лимита построения графиков на Data Lens (до 75 тыс. строк)   \n",
    "https://datalens.tech/docs/ru/concepts/limits.html\n",
    "\n",
    "- Полей 107 одининаковое кол-во в обоих файлах. Проверим, идентичны ли названия полей\n",
    "\n",
    "- 107 полей много для нашей задачи, выберем только необходимые"
   ]
  },
  {
   "cell_type": "markdown",
   "metadata": {},
   "source": [
    "### Подготовка файла-витрины для передачи в дашборд"
   ]
  },
  {
   "cell_type": "markdown",
   "metadata": {},
   "source": [
    "#### Объединение файлов, выбор нужных полей\n",
    "Проверим, совпадают ли именая полей в файлах.  \n",
    "Если да, можно сразу объединять.  "
   ]
  },
  {
   "cell_type": "code",
   "execution_count": 6,
   "metadata": {},
   "outputs": [
    {
     "name": "stdout",
     "output_type": "stream",
     "text": [
      "Все названия полей совпали, можно объединять\n"
     ]
    }
   ],
   "source": [
    "# сравним 2 множества из названий полей\n",
    "\n",
    "diff_colls_quantity = len(set(df_2018.columns).difference(df_2019.columns))\n",
    "\n",
    "if diff_colls_quantity == 0:\n",
    "    print(\"Все названия полей совпали, можно объединять\")\n",
    "else:\n",
    "    print(\"Есть не совпадающие названия полей, нужно разобраться перед объединением\")"
   ]
  },
  {
   "cell_type": "code",
   "execution_count": 7,
   "metadata": {},
   "outputs": [],
   "source": [
    "df_all = pd.concat([df_2018, df_2019], axis=0)"
   ]
  },
  {
   "cell_type": "code",
   "execution_count": 8,
   "metadata": {},
   "outputs": [],
   "source": [
    "# Объединение корректно, можно удалить исходные датасеты из ОЗУ\n",
    "\n",
    "df_all.shape\n",
    "\n",
    "del df_2019, df_2018, diff_colls_quantity"
   ]
  },
  {
   "cell_type": "markdown",
   "metadata": {},
   "source": [
    "Посмотрим на список полей. Оставим только нужные для решения нашей задачи.  \n",
    "Для удобства можно записать список в отдельный текстовый файл и посмотреть отдельно."
   ]
  },
  {
   "cell_type": "code",
   "execution_count": 9,
   "metadata": {},
   "outputs": [],
   "source": [
    "pd.DataFrame(df_all.columns).to_csv('columns.txt', sep=' ', index=False)"
   ]
  },
  {
   "cell_type": "code",
   "execution_count": 10,
   "metadata": {},
   "outputs": [],
   "source": [
    "# Создадим перечень необходимых полей\n",
    "\n",
    "selected_cols = [\n",
    "'STAT (STAT)',\n",
    "'GD1 (Дата выпуска)',\n",
    "'G011 (Направление перемещения)',\n",
    "'G17B (Страна назначения)',\n",
    "'G17A (Код страны назначения)',\n",
    "'G19 (Признак контейнерных перевозок)',\n",
    "'G38 (Вес нетто, кг)',\n",
    "'G46 (Статистическая стоимость, USD.)',\n",
    "'G33 (Код товара по ТН ВЭД)',\n",
    "\"G083 (Адрес получателя)\",\n",
    "'G0831 (Код страны получателя)'\n",
    "]"
   ]
  },
  {
   "cell_type": "code",
   "execution_count": 11,
   "metadata": {},
   "outputs": [],
   "source": [
    "df_all = df_all[selected_cols]"
   ]
  },
  {
   "cell_type": "code",
   "execution_count": 12,
   "metadata": {},
   "outputs": [
    {
     "name": "stdout",
     "output_type": "stream",
     "text": [
      "<class 'pandas.core.frame.DataFrame'>\n",
      "Index: 41119 entries, 0 to 21669\n",
      "Data columns (total 11 columns):\n",
      " #   Column                                Non-Null Count  Dtype  \n",
      "---  ------                                --------------  -----  \n",
      " 0   STAT (STAT)                           41119 non-null  int64  \n",
      " 1   GD1 (Дата выпуска)                    41119 non-null  object \n",
      " 2   G011 (Направление перемещения)        41119 non-null  object \n",
      " 3   G17B (Страна назначения)              40925 non-null  object \n",
      " 4   G17A (Код страны назначения)          40767 non-null  object \n",
      " 5   G19 (Признак контейнерных перевозок)  38484 non-null  float64\n",
      " 6   G38 (Вес нетто, кг)                   41119 non-null  object \n",
      " 7   G46 (Статистическая стоимость, USD.)  41119 non-null  object \n",
      " 8   G33 (Код товара по ТН ВЭД)            41119 non-null  object \n",
      " 9   G083 (Адрес получателя)               41118 non-null  object \n",
      " 10  G0831 (Код страны получателя)         38336 non-null  object \n",
      "dtypes: float64(1), int64(1), object(9)\n",
      "memory usage: 3.8+ MB\n"
     ]
    }
   ],
   "source": [
    "df_all.info()"
   ]
  },
  {
   "cell_type": "code",
   "execution_count": 13,
   "metadata": {},
   "outputs": [
    {
     "data": {
      "text/html": [
       "<div>\n",
       "<style scoped>\n",
       "    .dataframe tbody tr th:only-of-type {\n",
       "        vertical-align: middle;\n",
       "    }\n",
       "\n",
       "    .dataframe tbody tr th {\n",
       "        vertical-align: top;\n",
       "    }\n",
       "\n",
       "    .dataframe thead th {\n",
       "        text-align: right;\n",
       "    }\n",
       "</style>\n",
       "<table border=\"1\" class=\"dataframe\">\n",
       "  <thead>\n",
       "    <tr style=\"text-align: right;\">\n",
       "      <th></th>\n",
       "      <th>STAT (STAT)</th>\n",
       "      <th>GD1 (Дата выпуска)</th>\n",
       "      <th>G011 (Направление перемещения)</th>\n",
       "      <th>G17B (Страна назначения)</th>\n",
       "      <th>G17A (Код страны назначения)</th>\n",
       "      <th>G19 (Признак контейнерных перевозок)</th>\n",
       "      <th>G38 (Вес нетто, кг)</th>\n",
       "      <th>G46 (Статистическая стоимость, USD.)</th>\n",
       "      <th>G33 (Код товара по ТН ВЭД)</th>\n",
       "      <th>G083 (Адрес получателя)</th>\n",
       "      <th>G0831 (Код страны получателя)</th>\n",
       "    </tr>\n",
       "  </thead>\n",
       "  <tbody>\n",
       "    <tr>\n",
       "      <th>0</th>\n",
       "      <td>0</td>\n",
       "      <td>02.01.2018</td>\n",
       "      <td>ЭК</td>\n",
       "      <td>ГЕРМАНИЯ</td>\n",
       "      <td>DE</td>\n",
       "      <td>0.0</td>\n",
       "      <td>5000000</td>\n",
       "      <td>1078600</td>\n",
       "      <td>3102101000</td>\n",
       "      <td>238871, PALAIS RENAISSANCE, SINGAPORE, 08-04 O...</td>\n",
       "      <td>DE</td>\n",
       "    </tr>\n",
       "    <tr>\n",
       "      <th>1</th>\n",
       "      <td>1</td>\n",
       "      <td>03.01.2018</td>\n",
       "      <td>ЭК</td>\n",
       "      <td>БРАЗИЛИЯ</td>\n",
       "      <td>BR</td>\n",
       "      <td>0.0</td>\n",
       "      <td>1611000</td>\n",
       "      <td>565461</td>\n",
       "      <td>3105400000</td>\n",
       "      <td>LV-3602, , Г.ВЕНТСПИЛС, УЛ. ДЗИНТАРУ, 41</td>\n",
       "      <td>BR</td>\n",
       "    </tr>\n",
       "    <tr>\n",
       "      <th>2</th>\n",
       "      <td>1</td>\n",
       "      <td>03.01.2018</td>\n",
       "      <td>ЭК</td>\n",
       "      <td>ВЕНГРИЯ</td>\n",
       "      <td>HU</td>\n",
       "      <td>0.0</td>\n",
       "      <td>1020000</td>\n",
       "      <td>389640</td>\n",
       "      <td>3105400000</td>\n",
       "      <td>2943, , БАБОЛНА, ИКР ПАРК № 890</td>\n",
       "      <td>HU</td>\n",
       "    </tr>\n",
       "    <tr>\n",
       "      <th>3</th>\n",
       "      <td>1</td>\n",
       "      <td>03.01.2018</td>\n",
       "      <td>ЭК</td>\n",
       "      <td>ЛАТВИЯ</td>\n",
       "      <td>LV</td>\n",
       "      <td>0.0</td>\n",
       "      <td>960000</td>\n",
       "      <td>343680</td>\n",
       "      <td>3105400000</td>\n",
       "      <td>LV-1004, , РИГА, УЛ.БАУСКАС 58А-13</td>\n",
       "      <td>LV</td>\n",
       "    </tr>\n",
       "    <tr>\n",
       "      <th>4</th>\n",
       "      <td>1</td>\n",
       "      <td>03.01.2018</td>\n",
       "      <td>ЭК</td>\n",
       "      <td>ЛИТВА</td>\n",
       "      <td>LT</td>\n",
       "      <td>0.0</td>\n",
       "      <td>512000</td>\n",
       "      <td>189440</td>\n",
       "      <td>3105400000</td>\n",
       "      <td>12126, , Г. ВИЛЬНЮС, УЛ. ПЕРКУНКИЕМИО, 2</td>\n",
       "      <td>LT</td>\n",
       "    </tr>\n",
       "  </tbody>\n",
       "</table>\n",
       "</div>"
      ],
      "text/plain": [
       "   STAT (STAT) GD1 (Дата выпуска) G011 (Направление перемещения)  \\\n",
       "0            0         02.01.2018                             ЭК   \n",
       "1            1         03.01.2018                             ЭК   \n",
       "2            1         03.01.2018                             ЭК   \n",
       "3            1         03.01.2018                             ЭК   \n",
       "4            1         03.01.2018                             ЭК   \n",
       "\n",
       "  G17B (Страна назначения) G17A (Код страны назначения)  \\\n",
       "0                 ГЕРМАНИЯ                           DE   \n",
       "1                 БРАЗИЛИЯ                           BR   \n",
       "2                  ВЕНГРИЯ                           HU   \n",
       "3                   ЛАТВИЯ                           LV   \n",
       "4                    ЛИТВА                           LT   \n",
       "\n",
       "   G19 (Признак контейнерных перевозок) G38 (Вес нетто, кг)  \\\n",
       "0                                   0.0             5000000   \n",
       "1                                   0.0             1611000   \n",
       "2                                   0.0             1020000   \n",
       "3                                   0.0              960000   \n",
       "4                                   0.0              512000   \n",
       "\n",
       "  G46 (Статистическая стоимость, USD.) G33 (Код товара по ТН ВЭД)  \\\n",
       "0                              1078600                3102101000    \n",
       "1                               565461                3105400000    \n",
       "2                               389640                3105400000    \n",
       "3                               343680                3105400000    \n",
       "4                               189440                3105400000    \n",
       "\n",
       "                             G083 (Адрес получателя)  \\\n",
       "0  238871, PALAIS RENAISSANCE, SINGAPORE, 08-04 O...   \n",
       "1           LV-3602, , Г.ВЕНТСПИЛС, УЛ. ДЗИНТАРУ, 41   \n",
       "2                    2943, , БАБОЛНА, ИКР ПАРК № 890   \n",
       "3                 LV-1004, , РИГА, УЛ.БАУСКАС 58А-13   \n",
       "4           12126, , Г. ВИЛЬНЮС, УЛ. ПЕРКУНКИЕМИО, 2   \n",
       "\n",
       "  G0831 (Код страны получателя)  \n",
       "0                            DE  \n",
       "1                            BR  \n",
       "2                            HU  \n",
       "3                            LV  \n",
       "4                            LT  "
      ]
     },
     "execution_count": 13,
     "metadata": {},
     "output_type": "execute_result"
    }
   ],
   "source": [
    "df_all.head()"
   ]
  },
  {
   "cell_type": "markdown",
   "metadata": {},
   "source": [
    "Данные объединены и выбраны корректно, но есть пропуски:\n",
    "- В названии страны назначения и кодах с ней связанных.\n",
    "- В поле-флаге, обозначающем контейнерные перевозки."
   ]
  },
  {
   "cell_type": "markdown",
   "metadata": {},
   "source": [
    "### Предобработка данных"
   ]
  },
  {
   "cell_type": "markdown",
   "metadata": {},
   "source": [
    "Отлично, есть только необходные данные. Теперь нужно:\n",
    " \n",
    "- Выбрать только экспорт + действительные декларации, у которых поле `STAT`=1\n",
    "\n",
    "- Заполнить пропуски в поле по признаку контейнерных перевозок. Если данных нет, то считаем, что груз едет не в контейнере.\n",
    "  Бизнес заказчик согласовал и уточнил, что в контейнерах должно быть гораздо меньше перевозок.\n",
    "\n",
    "- Обработать поля страны назначения и добавить агрегирование по региону.\n",
    "\n",
    "- Добавить геоданные, чтобы иметь возможность отображать ключевые регионы поставок на карте."
   ]
  },
  {
   "cell_type": "code",
   "execution_count": 14,
   "metadata": {},
   "outputs": [
    {
     "data": {
      "text/plain": [
       "G011 (Направление перемещения)\n",
       "ЭК    33910\n",
       "ИМ     7209\n",
       "Name: count, dtype: int64"
      ]
     },
     "execution_count": 14,
     "metadata": {},
     "output_type": "execute_result"
    }
   ],
   "source": [
    "# Посмотрим как обозначенны направления перемещения\n",
    "\n",
    "df_all['G011 (Направление перемещения)'].value_counts()"
   ]
  },
  {
   "cell_type": "code",
   "execution_count": 15,
   "metadata": {},
   "outputs": [],
   "source": [
    "# Сделаем подвыборку согласно задаче и удалим поля\n",
    "\n",
    "df_all = df_all.loc[(df_all['STAT (STAT)'] == 1) & (df_all['G011 (Направление перемещения)'] == 'ЭК')]\n",
    "df_all = df_all.drop(columns=['STAT (STAT)', 'G011 (Направление перемещения)'])"
   ]
  },
  {
   "cell_type": "code",
   "execution_count": 16,
   "metadata": {},
   "outputs": [
    {
     "data": {
      "text/plain": [
       "G19 (Признак контейнерных перевозок)\n",
       "0.0    20508\n",
       "1.0     2757\n",
       "Name: count, dtype: int64"
      ]
     },
     "execution_count": 16,
     "metadata": {},
     "output_type": "execute_result"
    }
   ],
   "source": [
    "df_all['G19 (Признак контейнерных перевозок)'].value_counts()"
   ]
  },
  {
   "cell_type": "code",
   "execution_count": 17,
   "metadata": {},
   "outputs": [],
   "source": [
    "# Заполним пропуски в поле контейнерных перевозок флагом, что это не контейнеры.\n",
    "\n",
    "df_all['G19 (Признак контейнерных перевозок)'] = df_all['G19 (Признак контейнерных перевозок)'].fillna(0)"
   ]
  },
  {
   "cell_type": "code",
   "execution_count": 18,
   "metadata": {},
   "outputs": [
    {
     "name": "stdout",
     "output_type": "stream",
     "text": [
      "<class 'pandas.core.frame.DataFrame'>\n",
      "Index: 24985 entries, 1 to 21668\n",
      "Data columns (total 9 columns):\n",
      " #   Column                                Non-Null Count  Dtype  \n",
      "---  ------                                --------------  -----  \n",
      " 0   GD1 (Дата выпуска)                    24985 non-null  object \n",
      " 1   G17B (Страна назначения)              24967 non-null  object \n",
      " 2   G17A (Код страны назначения)          24954 non-null  object \n",
      " 3   G19 (Признак контейнерных перевозок)  24985 non-null  float64\n",
      " 4   G38 (Вес нетто, кг)                   24985 non-null  object \n",
      " 5   G46 (Статистическая стоимость, USD.)  24985 non-null  object \n",
      " 6   G33 (Код товара по ТН ВЭД)            24985 non-null  object \n",
      " 7   G083 (Адрес получателя)               24984 non-null  object \n",
      " 8   G0831 (Код страны получателя)         22986 non-null  object \n",
      "dtypes: float64(1), object(8)\n",
      "memory usage: 1.9+ MB\n"
     ]
    }
   ],
   "source": [
    "df_all.info()"
   ]
  },
  {
   "cell_type": "markdown",
   "metadata": {},
   "source": [
    "#### Страны и регионы поставок\n",
    "- определим, какое поле лучше брать для группировки стран (код или название)\n",
    "- сгрупируем страны по регионам, используя уже доступную классификацию\n",
    "\n"
   ]
  },
  {
   "cell_type": "markdown",
   "metadata": {},
   "source": [
    "##### Обработка пропусков"
   ]
  },
  {
   "cell_type": "code",
   "execution_count": 19,
   "metadata": {},
   "outputs": [
    {
     "name": "stdout",
     "output_type": "stream",
     "text": [
      "Всего уникальных стран по названию в наших данных: 141\n",
      "Всего уникальных стран по буквенному коду в наших данных: 135\n"
     ]
    }
   ],
   "source": [
    "print('Всего уникальных стран по названию в наших данных:', len(df_all['G17B (Страна назначения)'].unique()))\n",
    "print('Всего уникальных стран по буквенному коду в наших данных:', len(df_all['G17A (Код страны назначения)'].unique()))"
   ]
  },
  {
   "cell_type": "markdown",
   "metadata": {},
   "source": [
    "Пропуски есть в кодах и названиях стран. Число уникальных кодов и названий не бьётся, значит:\n",
    "- либо у некоторых стран по-разному написаны названия\n",
    "- или не у каждой страны есть код/название "
   ]
  },
  {
   "cell_type": "code",
   "execution_count": 20,
   "metadata": {},
   "outputs": [
    {
     "data": {
      "text/plain": [
       "G17A (Код страны назначения)  key              \n",
       "AB                            АБХАЗИЯ|AB           1\n",
       "NZ                            НОВАЯ ЗЕЛАНДИЯ|NZ    1\n",
       "MY                            МАЛАЙЗИЯ|MY          1\n",
       "MZ                            МОЗАМБИК|MZ          1\n",
       "NG                            НИГЕРИЯ|NG           1\n",
       "Name: count, dtype: int64"
      ]
     },
     "execution_count": 20,
     "metadata": {},
     "output_type": "execute_result"
    }
   ],
   "source": [
    "df_countries = df_all[['G17B (Страна назначения)', 'G17A (Код страны назначения)']].copy()\n",
    "\n",
    "df_countries['key'] = df_all['G17B (Страна назначения)'] + '|' + df_all['G17A (Код страны назначения)']\n",
    "df_countries.set_index('G17A (Код страны назначения)')\n",
    "df_countries.drop(columns='G17B (Страна назначения)', inplace=True)\n",
    "\n",
    "df_countries.drop_duplicates(inplace=True)\n",
    "df_countries.value_counts(dropna=False).head()\n"
   ]
  },
  {
   "cell_type": "markdown",
   "metadata": {},
   "source": [
    "Нет кодов стран с 2 и более уникальными ключами название+код, названия одной и той же страны единообразны.  \n",
    "\n",
    "Значит дело в пропусках в кодах и/или названиях стран."
   ]
  },
  {
   "cell_type": "code",
   "execution_count": 21,
   "metadata": {},
   "outputs": [
    {
     "data": {
      "text/html": [
       "<div>\n",
       "<style scoped>\n",
       "    .dataframe tbody tr th:only-of-type {\n",
       "        vertical-align: middle;\n",
       "    }\n",
       "\n",
       "    .dataframe tbody tr th {\n",
       "        vertical-align: top;\n",
       "    }\n",
       "\n",
       "    .dataframe thead th {\n",
       "        text-align: right;\n",
       "    }\n",
       "</style>\n",
       "<table border=\"1\" class=\"dataframe\">\n",
       "  <thead>\n",
       "    <tr style=\"text-align: right;\">\n",
       "      <th></th>\n",
       "      <th>G17B (Страна назначения)</th>\n",
       "      <th>G17A (Код страны назначения)</th>\n",
       "    </tr>\n",
       "  </thead>\n",
       "  <tbody>\n",
       "    <tr>\n",
       "      <th>322</th>\n",
       "      <td>НАМИБИЯ</td>\n",
       "      <td>NaN</td>\n",
       "    </tr>\n",
       "    <tr>\n",
       "      <th>17328</th>\n",
       "      <td>СЕВЕРНАЯ МАКЕДОНИЯ</td>\n",
       "      <td>NaN</td>\n",
       "    </tr>\n",
       "    <tr>\n",
       "      <th>18378</th>\n",
       "      <td>NaN</td>\n",
       "      <td>NaN</td>\n",
       "    </tr>\n",
       "  </tbody>\n",
       "</table>\n",
       "</div>"
      ],
      "text/plain": [
       "      G17B (Страна назначения) G17A (Код страны назначения)\n",
       "322                    НАМИБИЯ                          NaN\n",
       "17328       СЕВЕРНАЯ МАКЕДОНИЯ                          NaN\n",
       "18378                      NaN                          NaN"
      ]
     },
     "execution_count": 21,
     "metadata": {},
     "output_type": "execute_result"
    }
   ],
   "source": [
    "# Посмотрим на страны, у которых не указано название или код\n",
    "\n",
    "df_countries = df_all[['G17B (Страна назначения)', 'G17A (Код страны назначения)']].copy()\n",
    "df_countries.loc[(df_countries['G17A (Код страны назначения)'].isna())|(df_countries['G17A (Код страны назначения)'].isna())].drop_duplicates()"
   ]
  },
  {
   "cell_type": "code",
   "execution_count": 22,
   "metadata": {},
   "outputs": [
    {
     "data": {
      "text/html": [
       "<div>\n",
       "<style scoped>\n",
       "    .dataframe tbody tr th:only-of-type {\n",
       "        vertical-align: middle;\n",
       "    }\n",
       "\n",
       "    .dataframe tbody tr th {\n",
       "        vertical-align: top;\n",
       "    }\n",
       "\n",
       "    .dataframe thead th {\n",
       "        text-align: right;\n",
       "    }\n",
       "</style>\n",
       "<table border=\"1\" class=\"dataframe\">\n",
       "  <thead>\n",
       "    <tr style=\"text-align: right;\">\n",
       "      <th></th>\n",
       "      <th>G17B (Страна назначения)</th>\n",
       "      <th>G17A (Код страны назначения)</th>\n",
       "    </tr>\n",
       "  </thead>\n",
       "  <tbody>\n",
       "    <tr>\n",
       "      <th>322</th>\n",
       "      <td>НАМИБИЯ</td>\n",
       "      <td>NaN</td>\n",
       "    </tr>\n",
       "    <tr>\n",
       "      <th>348</th>\n",
       "      <td>НАМИБИЯ</td>\n",
       "      <td>NaN</td>\n",
       "    </tr>\n",
       "    <tr>\n",
       "      <th>859</th>\n",
       "      <td>НАМИБИЯ</td>\n",
       "      <td>NaN</td>\n",
       "    </tr>\n",
       "    <tr>\n",
       "      <th>7802</th>\n",
       "      <td>НАМИБИЯ</td>\n",
       "      <td>NaN</td>\n",
       "    </tr>\n",
       "    <tr>\n",
       "      <th>12074</th>\n",
       "      <td>НАМИБИЯ</td>\n",
       "      <td>NaN</td>\n",
       "    </tr>\n",
       "    <tr>\n",
       "      <th>13024</th>\n",
       "      <td>НАМИБИЯ</td>\n",
       "      <td>NaN</td>\n",
       "    </tr>\n",
       "    <tr>\n",
       "      <th>13265</th>\n",
       "      <td>НАМИБИЯ</td>\n",
       "      <td>NaN</td>\n",
       "    </tr>\n",
       "    <tr>\n",
       "      <th>6406</th>\n",
       "      <td>НАМИБИЯ</td>\n",
       "      <td>NaN</td>\n",
       "    </tr>\n",
       "    <tr>\n",
       "      <th>6482</th>\n",
       "      <td>НАМИБИЯ</td>\n",
       "      <td>NaN</td>\n",
       "    </tr>\n",
       "    <tr>\n",
       "      <th>14271</th>\n",
       "      <td>НАМИБИЯ</td>\n",
       "      <td>NaN</td>\n",
       "    </tr>\n",
       "    <tr>\n",
       "      <th>14331</th>\n",
       "      <td>НАМИБИЯ</td>\n",
       "      <td>NaN</td>\n",
       "    </tr>\n",
       "    <tr>\n",
       "      <th>17328</th>\n",
       "      <td>СЕВЕРНАЯ МАКЕДОНИЯ</td>\n",
       "      <td>NaN</td>\n",
       "    </tr>\n",
       "    <tr>\n",
       "      <th>17625</th>\n",
       "      <td>НАМИБИЯ</td>\n",
       "      <td>NaN</td>\n",
       "    </tr>\n",
       "  </tbody>\n",
       "</table>\n",
       "</div>"
      ],
      "text/plain": [
       "      G17B (Страна назначения) G17A (Код страны назначения)\n",
       "322                    НАМИБИЯ                          NaN\n",
       "348                    НАМИБИЯ                          NaN\n",
       "859                    НАМИБИЯ                          NaN\n",
       "7802                   НАМИБИЯ                          NaN\n",
       "12074                  НАМИБИЯ                          NaN\n",
       "13024                  НАМИБИЯ                          NaN\n",
       "13265                  НАМИБИЯ                          NaN\n",
       "6406                   НАМИБИЯ                          NaN\n",
       "6482                   НАМИБИЯ                          NaN\n",
       "14271                  НАМИБИЯ                          NaN\n",
       "14331                  НАМИБИЯ                          NaN\n",
       "17328       СЕВЕРНАЯ МАКЕДОНИЯ                          NaN\n",
       "17625                  НАМИБИЯ                          NaN"
      ]
     },
     "execution_count": 22,
     "metadata": {},
     "output_type": "execute_result"
    }
   ],
   "source": [
    "df_countries.loc[(df_countries['G17B (Страна назначения)'] =='НАМИБИЯ')|(df_countries['G17B (Страна назначения)'] =='СЕВЕРНАЯ МАКЕДОНИЯ')]"
   ]
  },
  {
   "cell_type": "markdown",
   "metadata": {},
   "source": [
    "Пропущены коды для Намибии и Северной Македонии. Заполним их."
   ]
  },
  {
   "cell_type": "code",
   "execution_count": 23,
   "metadata": {},
   "outputs": [],
   "source": [
    "df_all.loc[df_all['G17B (Страна назначения)']=='НАМИБИЯ', 'G17A (Код страны назначения)'] = 'NA'\n",
    "df_all.loc[df_all['G17B (Страна назначения)']=='СЕВЕРНАЯ МАКЕДОНИЯ', 'G17A (Код страны назначения)'] = 'MK'"
   ]
  },
  {
   "cell_type": "markdown",
   "metadata": {},
   "source": [
    "Посмотрим на оставшиеся пропуски.  \n",
    "М.б. поля \"G0831 (Код страны получателя)\" и \"G083 (Адрес получателя)\" помут понять как заполнить пропуски."
   ]
  },
  {
   "cell_type": "code",
   "execution_count": 24,
   "metadata": {},
   "outputs": [
    {
     "data": {
      "text/html": [
       "<div>\n",
       "<style scoped>\n",
       "    .dataframe tbody tr th:only-of-type {\n",
       "        vertical-align: middle;\n",
       "    }\n",
       "\n",
       "    .dataframe tbody tr th {\n",
       "        vertical-align: top;\n",
       "    }\n",
       "\n",
       "    .dataframe thead th {\n",
       "        text-align: right;\n",
       "    }\n",
       "</style>\n",
       "<table border=\"1\" class=\"dataframe\">\n",
       "  <thead>\n",
       "    <tr style=\"text-align: right;\">\n",
       "      <th></th>\n",
       "      <th>G083 (Адрес получателя)</th>\n",
       "      <th>G0831 (Код страны получателя)</th>\n",
       "    </tr>\n",
       "  </thead>\n",
       "  <tbody>\n",
       "    <tr>\n",
       "      <th>18378</th>\n",
       "      <td>6300, ZUG, GOTTHARDSTRASSE 2.</td>\n",
       "      <td>NaN</td>\n",
       "    </tr>\n",
       "    <tr>\n",
       "      <th>18412</th>\n",
       "      <td>6300, ZUG, BAARERSTRASSE 37.</td>\n",
       "      <td>NaN</td>\n",
       "    </tr>\n",
       "    <tr>\n",
       "      <th>18413</th>\n",
       "      <td>6300, ZUG, BAARERSTRASSE 37.</td>\n",
       "      <td>NaN</td>\n",
       "    </tr>\n",
       "    <tr>\n",
       "      <th>18414</th>\n",
       "      <td>6300, ZUG, BAARERSTRASSE 37.</td>\n",
       "      <td>NaN</td>\n",
       "    </tr>\n",
       "    <tr>\n",
       "      <th>18430</th>\n",
       "      <td>6300, ZUG, BAARERSTRASSE 37.</td>\n",
       "      <td>NaN</td>\n",
       "    </tr>\n",
       "    <tr>\n",
       "      <th>18431</th>\n",
       "      <td>6300, ZUG, BAARERSTRASSE 37.</td>\n",
       "      <td>NaN</td>\n",
       "    </tr>\n",
       "    <tr>\n",
       "      <th>18432</th>\n",
       "      <td>6300, ZUG, BAARERSTRASSE 37.</td>\n",
       "      <td>NaN</td>\n",
       "    </tr>\n",
       "    <tr>\n",
       "      <th>18433</th>\n",
       "      <td>6300, ZUG, BAARERSTRASSE 37.</td>\n",
       "      <td>NaN</td>\n",
       "    </tr>\n",
       "    <tr>\n",
       "      <th>18434</th>\n",
       "      <td>6300, ZUG, BAARERSTRASSE 37.</td>\n",
       "      <td>NaN</td>\n",
       "    </tr>\n",
       "    <tr>\n",
       "      <th>18767</th>\n",
       "      <td>6300, ZUG, BAARERSTRASSE 37.</td>\n",
       "      <td>NaN</td>\n",
       "    </tr>\n",
       "    <tr>\n",
       "      <th>18861</th>\n",
       "      <td>PALMERAIE RESIDENTIEL, ABIDJAN, LOT 2270 ILOT ...</td>\n",
       "      <td>NaN</td>\n",
       "    </tr>\n",
       "    <tr>\n",
       "      <th>19125</th>\n",
       "      <td>6300, ZUG, GOTTHARDSTRASSE 2.</td>\n",
       "      <td>NaN</td>\n",
       "    </tr>\n",
       "    <tr>\n",
       "      <th>19876</th>\n",
       "      <td>CH-6300, ZUG, GOTTHARDSTRASSE 2.</td>\n",
       "      <td>NaN</td>\n",
       "    </tr>\n",
       "    <tr>\n",
       "      <th>19904</th>\n",
       "      <td>CH-6340, BAAR, LINDENSTRASSE 4.</td>\n",
       "      <td>NaN</td>\n",
       "    </tr>\n",
       "    <tr>\n",
       "      <th>20785</th>\n",
       "      <td>CH-6300, ZUG, GOTTHARDSTRASSE 2.</td>\n",
       "      <td>NaN</td>\n",
       "    </tr>\n",
       "    <tr>\n",
       "      <th>20979</th>\n",
       "      <td>CH-6340, BAAR, LINDENSTRASSE 4.</td>\n",
       "      <td>NaN</td>\n",
       "    </tr>\n",
       "    <tr>\n",
       "      <th>21643</th>\n",
       "      <td>CH-6340, BAAR, LINDENSTRASSE 4.</td>\n",
       "      <td>NaN</td>\n",
       "    </tr>\n",
       "    <tr>\n",
       "      <th>21658</th>\n",
       "      <td>LV-1013, город РИГА, улица КРИСЬЯНА ВАЛДЕМАРА 62</td>\n",
       "      <td>NaN</td>\n",
       "    </tr>\n",
       "  </tbody>\n",
       "</table>\n",
       "</div>"
      ],
      "text/plain": [
       "                                 G083 (Адрес получателя)  \\\n",
       "18378                      6300, ZUG, GOTTHARDSTRASSE 2.   \n",
       "18412                       6300, ZUG, BAARERSTRASSE 37.   \n",
       "18413                       6300, ZUG, BAARERSTRASSE 37.   \n",
       "18414                       6300, ZUG, BAARERSTRASSE 37.   \n",
       "18430                       6300, ZUG, BAARERSTRASSE 37.   \n",
       "18431                       6300, ZUG, BAARERSTRASSE 37.   \n",
       "18432                       6300, ZUG, BAARERSTRASSE 37.   \n",
       "18433                       6300, ZUG, BAARERSTRASSE 37.   \n",
       "18434                       6300, ZUG, BAARERSTRASSE 37.   \n",
       "18767                       6300, ZUG, BAARERSTRASSE 37.   \n",
       "18861  PALMERAIE RESIDENTIEL, ABIDJAN, LOT 2270 ILOT ...   \n",
       "19125                      6300, ZUG, GOTTHARDSTRASSE 2.   \n",
       "19876                   CH-6300, ZUG, GOTTHARDSTRASSE 2.   \n",
       "19904                    CH-6340, BAAR, LINDENSTRASSE 4.   \n",
       "20785                   CH-6300, ZUG, GOTTHARDSTRASSE 2.   \n",
       "20979                    CH-6340, BAAR, LINDENSTRASSE 4.   \n",
       "21643                    CH-6340, BAAR, LINDENSTRASSE 4.   \n",
       "21658   LV-1013, город РИГА, улица КРИСЬЯНА ВАЛДЕМАРА 62   \n",
       "\n",
       "      G0831 (Код страны получателя)  \n",
       "18378                           NaN  \n",
       "18412                           NaN  \n",
       "18413                           NaN  \n",
       "18414                           NaN  \n",
       "18430                           NaN  \n",
       "18431                           NaN  \n",
       "18432                           NaN  \n",
       "18433                           NaN  \n",
       "18434                           NaN  \n",
       "18767                           NaN  \n",
       "18861                           NaN  \n",
       "19125                           NaN  \n",
       "19876                           NaN  \n",
       "19904                           NaN  \n",
       "20785                           NaN  \n",
       "20979                           NaN  \n",
       "21643                           NaN  \n",
       "21658                           NaN  "
      ]
     },
     "execution_count": 24,
     "metadata": {},
     "output_type": "execute_result"
    }
   ],
   "source": [
    "df_all.loc[df_all['G17B (Страна назначения)'].isna(), ['G083 (Адрес получателя)', \"G0831 (Код страны получателя)\"]]"
   ]
  },
  {
   "cell_type": "markdown",
   "metadata": {},
   "source": [
    "К сожалению, из этих данных нельзя точно установить страну назначения, т.к. это адреса трейдеров в Швейцарии.  \n",
    "Пропусков очень мало, они не повлияют на общую картину. Отбросим их и избыточные поля. "
   ]
  },
  {
   "cell_type": "code",
   "execution_count": 25,
   "metadata": {},
   "outputs": [],
   "source": [
    "df_all = df_all.drop(columns=['G083 (Адрес получателя)', 'G0831 (Код страны получателя)'])\n",
    "df_all = df_all.dropna()"
   ]
  },
  {
   "cell_type": "markdown",
   "metadata": {},
   "source": [
    "##### Группировка по регионам  \n",
    "- Подтянем нормализованные названия стран и региональную группировку из готового справочника.\n",
    "- Если что-то не заполниится, дозаполним по смыслу.\n"
   ]
  },
  {
   "cell_type": "code",
   "execution_count": 26,
   "metadata": {},
   "outputs": [],
   "source": [
    "# Возьмём уже готовый классификатор стран и регионов.\n",
    "\n",
    "countries_and_regions = pd.read_csv('https://www.artlebedev.ru/country-list/tab/', sep='\\t')"
   ]
  },
  {
   "cell_type": "code",
   "execution_count": 27,
   "metadata": {},
   "outputs": [
    {
     "data": {
      "text/html": [
       "<div>\n",
       "<style scoped>\n",
       "    .dataframe tbody tr th:only-of-type {\n",
       "        vertical-align: middle;\n",
       "    }\n",
       "\n",
       "    .dataframe tbody tr th {\n",
       "        vertical-align: top;\n",
       "    }\n",
       "\n",
       "    .dataframe thead th {\n",
       "        text-align: right;\n",
       "    }\n",
       "</style>\n",
       "<table border=\"1\" class=\"dataframe\">\n",
       "  <thead>\n",
       "    <tr style=\"text-align: right;\">\n",
       "      <th></th>\n",
       "      <th>name</th>\n",
       "      <th>fullname</th>\n",
       "      <th>english</th>\n",
       "      <th>alpha2</th>\n",
       "      <th>alpha3</th>\n",
       "      <th>iso</th>\n",
       "      <th>location</th>\n",
       "      <th>location-precise</th>\n",
       "    </tr>\n",
       "  </thead>\n",
       "  <tbody>\n",
       "    <tr>\n",
       "      <th>0</th>\n",
       "      <td>Абхазия</td>\n",
       "      <td>Республика Абхазия</td>\n",
       "      <td>Abkhazia</td>\n",
       "      <td>AB</td>\n",
       "      <td>ABH</td>\n",
       "      <td>895</td>\n",
       "      <td>Азия</td>\n",
       "      <td>Закавказье</td>\n",
       "    </tr>\n",
       "    <tr>\n",
       "      <th>1</th>\n",
       "      <td>Австралия</td>\n",
       "      <td>NaN</td>\n",
       "      <td>Australia</td>\n",
       "      <td>AU</td>\n",
       "      <td>AUS</td>\n",
       "      <td>36</td>\n",
       "      <td>Океания</td>\n",
       "      <td>Австралия и Новая Зеландия</td>\n",
       "    </tr>\n",
       "    <tr>\n",
       "      <th>2</th>\n",
       "      <td>Австрия</td>\n",
       "      <td>Австрийская Республика</td>\n",
       "      <td>Austria</td>\n",
       "      <td>AT</td>\n",
       "      <td>AUT</td>\n",
       "      <td>40</td>\n",
       "      <td>Европа</td>\n",
       "      <td>Западная Европа</td>\n",
       "    </tr>\n",
       "    <tr>\n",
       "      <th>3</th>\n",
       "      <td>Азербайджан</td>\n",
       "      <td>Республика Азербайджан</td>\n",
       "      <td>Azerbaijan</td>\n",
       "      <td>AZ</td>\n",
       "      <td>AZE</td>\n",
       "      <td>31</td>\n",
       "      <td>Азия</td>\n",
       "      <td>Западная Азия</td>\n",
       "    </tr>\n",
       "    <tr>\n",
       "      <th>4</th>\n",
       "      <td>Албания</td>\n",
       "      <td>Республика Албания</td>\n",
       "      <td>Albania</td>\n",
       "      <td>AL</td>\n",
       "      <td>ALB</td>\n",
       "      <td>8</td>\n",
       "      <td>Европа</td>\n",
       "      <td>Южная Европа</td>\n",
       "    </tr>\n",
       "  </tbody>\n",
       "</table>\n",
       "</div>"
      ],
      "text/plain": [
       "          name                fullname     english alpha2 alpha3  iso  \\\n",
       "0      Абхазия      Республика Абхазия    Abkhazia     AB    ABH  895   \n",
       "1    Австралия                     NaN   Australia     AU    AUS   36   \n",
       "2      Австрия  Австрийская Республика     Austria     AT    AUT   40   \n",
       "3  Азербайджан  Республика Азербайджан  Azerbaijan     AZ    AZE   31   \n",
       "4      Албания      Республика Албания     Albania     AL    ALB    8   \n",
       "\n",
       "  location            location-precise  \n",
       "0     Азия                  Закавказье  \n",
       "1  Океания  Австралия и Новая Зеландия  \n",
       "2   Европа             Западная Европа  \n",
       "3     Азия               Западная Азия  \n",
       "4   Европа                Южная Европа  "
      ]
     },
     "execution_count": 27,
     "metadata": {},
     "output_type": "execute_result"
    }
   ],
   "source": [
    "countries_and_regions.head()"
   ]
  },
  {
   "cell_type": "code",
   "execution_count": 28,
   "metadata": {},
   "outputs": [
    {
     "name": "stdout",
     "output_type": "stream",
     "text": [
      "<class 'pandas.core.frame.DataFrame'>\n",
      "RangeIndex: 251 entries, 0 to 250\n",
      "Data columns (total 8 columns):\n",
      " #   Column            Non-Null Count  Dtype \n",
      "---  ------            --------------  ----- \n",
      " 0   name              251 non-null    object\n",
      " 1   fullname          170 non-null    object\n",
      " 2   english           251 non-null    object\n",
      " 3   alpha2            250 non-null    object\n",
      " 4   alpha3            251 non-null    object\n",
      " 5   iso               251 non-null    int64 \n",
      " 6   location          247 non-null    object\n",
      " 7   location-precise  251 non-null    object\n",
      "dtypes: int64(1), object(7)\n",
      "memory usage: 15.8+ KB\n"
     ]
    }
   ],
   "source": [
    "countries_and_regions.info()"
   ]
  },
  {
   "cell_type": "markdown",
   "metadata": {},
   "source": [
    "Код альфа-2 какой-то страны не спарсился правильно. Проверим и исправим."
   ]
  },
  {
   "cell_type": "code",
   "execution_count": 29,
   "metadata": {},
   "outputs": [
    {
     "data": {
      "text/plain": [
       "135    Намибия\n",
       "Name: name, dtype: object"
      ]
     },
     "execution_count": 29,
     "metadata": {},
     "output_type": "execute_result"
    }
   ],
   "source": [
    "countries_and_regions.loc[countries_and_regions['alpha2'].isna(), 'name']"
   ]
  },
  {
   "cell_type": "code",
   "execution_count": 30,
   "metadata": {},
   "outputs": [],
   "source": [
    "countries_and_regions.loc[countries_and_regions['name'] == 'Намибия', 'alpha2'] = 'NA'"
   ]
  },
  {
   "cell_type": "code",
   "execution_count": 31,
   "metadata": {},
   "outputs": [],
   "source": [
    "# Переносим коды стран в индекс и объединяем таблицы\n",
    "\n",
    "countries_and_regions = countries_and_regions.set_index('alpha2')\n",
    "df_all = df_all.set_index('G17A (Код страны назначения)')\n",
    "\n",
    "df_all = df_all.join(countries_and_regions)"
   ]
  },
  {
   "cell_type": "code",
   "execution_count": 32,
   "metadata": {},
   "outputs": [
    {
     "name": "stdout",
     "output_type": "stream",
     "text": [
      "<class 'pandas.core.frame.DataFrame'>\n",
      "Index: 24967 entries, BR to ID\n",
      "Data columns (total 13 columns):\n",
      " #   Column                                Non-Null Count  Dtype  \n",
      "---  ------                                --------------  -----  \n",
      " 0   GD1 (Дата выпуска)                    24967 non-null  object \n",
      " 1   G17B (Страна назначения)              24967 non-null  object \n",
      " 2   G19 (Признак контейнерных перевозок)  24967 non-null  float64\n",
      " 3   G38 (Вес нетто, кг)                   24967 non-null  object \n",
      " 4   G46 (Статистическая стоимость, USD.)  24967 non-null  object \n",
      " 5   G33 (Код товара по ТН ВЭД)            24967 non-null  object \n",
      " 6   name                                  24967 non-null  object \n",
      " 7   fullname                              18074 non-null  object \n",
      " 8   english                               24967 non-null  object \n",
      " 9   alpha3                                24967 non-null  object \n",
      " 10  iso                                   24967 non-null  int64  \n",
      " 11  location                              24967 non-null  object \n",
      " 12  location-precise                      24967 non-null  object \n",
      "dtypes: float64(1), int64(1), object(11)\n",
      "memory usage: 2.7+ MB\n"
     ]
    }
   ],
   "source": [
    "df_all.info()"
   ]
  },
  {
   "cell_type": "code",
   "execution_count": 33,
   "metadata": {},
   "outputs": [],
   "source": [
    "# Удалим ненужные поля и индекс, поправим имена\n",
    "\n",
    "df_all = df_all.drop(columns=['fullname', 'alpha3', 'iso', 'G17B (Страна назначения)'])\n",
    "df_all.rename(inplace=True, columns={'GD1 (Дата выпуска)':'date', \n",
    "                                     'G19 (Признак контейнерных перевозок)':'conteiner',\n",
    "                                     'G38 (Вес нетто, кг)':'kg',\n",
    "                                     'G46 (Статистическая стоимость, USD.)':'value_usd',\n",
    "                                     'G33 (Код товара по ТН ВЭД)':'goods_code',\n",
    "                                     'name':'country',\n",
    "                                     'location':'macro_region',\n",
    "                                     'location-precise':'region',\n",
    "                                    })\n",
    "\n",
    "df_all.reset_index(drop=True, inplace=True)"
   ]
  },
  {
   "cell_type": "markdown",
   "metadata": {},
   "source": [
    "#### Товарные подгруппы\n",
    "- Сделаем разбивку на крупные товарные подгруппы в зависимости от первых четырёх цифр кода товара.   \n",
    "https://www.alta.ru/tnved/"
   ]
  },
  {
   "cell_type": "code",
   "execution_count": 34,
   "metadata": {},
   "outputs": [],
   "source": [
    "# Урежем товарный код под нашу классификацию.\n",
    "\n",
    "df_all['goods_code'] = df_all['goods_code'].str[0:4]"
   ]
  },
  {
   "cell_type": "code",
   "execution_count": 35,
   "metadata": {},
   "outputs": [],
   "source": [
    "# Создадим классификацию товарных подгрупп, товарный код удалим\n",
    "\n",
    "goods_dict = {'3102':'азотные',\n",
    "              '3105':'сложные и комплексные',\n",
    "              '3104':'калийные',\n",
    "              '3103':'фосфорные', \n",
    "              '3101':'прочее'}\n",
    "\n",
    "df_all['goods_type'] = df_all['goods_code'].map(goods_dict)\n",
    "\n",
    "df_all.drop(columns='goods_code', inplace=True)"
   ]
  },
  {
   "cell_type": "markdown",
   "metadata": {},
   "source": [
    "#### Подготовка геоданных\n",
    "Подготовим геоданные по странам формате, оптимизированном под BI серис DataLens.  \n",
    "Согласно документации, геоданные можно взять тут https://geointellect.com/files/geo_for_datalens.zip   \n",
    "\n",
    "Данные по странам мира лежат в файле `all_country_borders.csv`  \n",
    "\n",
    "К сожалению, если донасытить наши данные геоданными в обоих форматах (геополигоны и геоточки) выходной файл получается слишком большой (1 Гб).\n",
    "- такой размер не возможно загрузить в DataLens\n",
    "- так же не возможно объединить сдалать аналогочное объединение уже силами DataLens из 2 файлов - карта не строится.\n",
    "\n",
    "Остановимся на более компактном виде геоданных - геоточках."
   ]
  },
  {
   "cell_type": "code",
   "execution_count": 36,
   "metadata": {},
   "outputs": [],
   "source": [
    "df_geo = pd.read_csv('all_country_borders.csv', sep=';')"
   ]
  },
  {
   "cell_type": "code",
   "execution_count": 37,
   "metadata": {},
   "outputs": [
    {
     "name": "stdout",
     "output_type": "stream",
     "text": [
      "<class 'pandas.core.frame.DataFrame'>\n",
      "RangeIndex: 442 entries, 0 to 441\n",
      "Data columns (total 4 columns):\n",
      " #   Column       Non-Null Count  Dtype \n",
      "---  ------       --------------  ----- \n",
      " 0   name_ru      442 non-null    object\n",
      " 1   name_en      442 non-null    object\n",
      " 2   coords_type  442 non-null    object\n",
      " 3   coords       442 non-null    object\n",
      "dtypes: object(4)\n",
      "memory usage: 13.9+ KB\n"
     ]
    }
   ],
   "source": [
    "df_geo.info()"
   ]
  },
  {
   "cell_type": "code",
   "execution_count": 38,
   "metadata": {},
   "outputs": [
    {
     "data": {
      "text/html": [
       "<div>\n",
       "<style scoped>\n",
       "    .dataframe tbody tr th:only-of-type {\n",
       "        vertical-align: middle;\n",
       "    }\n",
       "\n",
       "    .dataframe tbody tr th {\n",
       "        vertical-align: top;\n",
       "    }\n",
       "\n",
       "    .dataframe thead th {\n",
       "        text-align: right;\n",
       "    }\n",
       "</style>\n",
       "<table border=\"1\" class=\"dataframe\">\n",
       "  <thead>\n",
       "    <tr style=\"text-align: right;\">\n",
       "      <th></th>\n",
       "      <th>name_ru</th>\n",
       "      <th>name_en</th>\n",
       "      <th>coords_type</th>\n",
       "      <th>coords</th>\n",
       "    </tr>\n",
       "  </thead>\n",
       "  <tbody>\n",
       "    <tr>\n",
       "      <th>303</th>\n",
       "      <td>Индонезия</td>\n",
       "      <td>Indonesia</td>\n",
       "      <td>all_country_borders_points</td>\n",
       "      <td>[-2.81876721211,118.407966183]</td>\n",
       "    </tr>\n",
       "    <tr>\n",
       "      <th>367</th>\n",
       "      <td>Малави</td>\n",
       "      <td>Malawi</td>\n",
       "      <td>all_country_borders_points</td>\n",
       "      <td>[-13.4120466802,33.48353745]</td>\n",
       "    </tr>\n",
       "    <tr>\n",
       "      <th>185</th>\n",
       "      <td>Кирибати</td>\n",
       "      <td>Kiribati</td>\n",
       "      <td>all_country_borders_poly</td>\n",
       "      <td>[[[1.588628300000039,172.64367330000005],[1.88...</td>\n",
       "    </tr>\n",
       "    <tr>\n",
       "      <th>35</th>\n",
       "      <td>Ливан</td>\n",
       "      <td>Lebanon</td>\n",
       "      <td>all_country_borders_poly</td>\n",
       "      <td>[[[34.69215149999999,36.33979760000001],[34.68...</td>\n",
       "    </tr>\n",
       "    <tr>\n",
       "      <th>416</th>\n",
       "      <td>Доминиканская Республика</td>\n",
       "      <td>Dominican Republic</td>\n",
       "      <td>all_country_borders_points</td>\n",
       "      <td>[19.2936628131,-70.1996012724]</td>\n",
       "    </tr>\n",
       "  </tbody>\n",
       "</table>\n",
       "</div>"
      ],
      "text/plain": [
       "                      name_ru             name_en                 coords_type  \\\n",
       "303                 Индонезия           Indonesia  all_country_borders_points   \n",
       "367                    Малави              Malawi  all_country_borders_points   \n",
       "185                  Кирибати            Kiribati    all_country_borders_poly   \n",
       "35                      Ливан             Lebanon    all_country_borders_poly   \n",
       "416  Доминиканская Республика  Dominican Republic  all_country_borders_points   \n",
       "\n",
       "                                                coords  \n",
       "303                     [-2.81876721211,118.407966183]  \n",
       "367                       [-13.4120466802,33.48353745]  \n",
       "185  [[[1.588628300000039,172.64367330000005],[1.88...  \n",
       "35   [[[34.69215149999999,36.33979760000001],[34.68...  \n",
       "416                     [19.2936628131,-70.1996012724]  "
      ]
     },
     "execution_count": 38,
     "metadata": {},
     "output_type": "execute_result"
    }
   ],
   "source": [
    "df_geo.sample(5)"
   ]
  },
  {
   "cell_type": "code",
   "execution_count": 39,
   "metadata": {},
   "outputs": [],
   "source": [
    "# Формат таблицы с отдельным столбцом типа геоданных неудобный.   \n",
    "# Преобразуем таблицу, чтобы типы геоточек были каждый в отдельном столбце.\n",
    "\n",
    "df_geo = pd.crosstab(index=df_geo['name_en'], columns=df_geo['coords_type'], values=df_geo['coords'], aggfunc='sum')"
   ]
  },
  {
   "cell_type": "code",
   "execution_count": 40,
   "metadata": {},
   "outputs": [
    {
     "data": {
      "text/html": [
       "<div>\n",
       "<style scoped>\n",
       "    .dataframe tbody tr th:only-of-type {\n",
       "        vertical-align: middle;\n",
       "    }\n",
       "\n",
       "    .dataframe tbody tr th {\n",
       "        vertical-align: top;\n",
       "    }\n",
       "\n",
       "    .dataframe thead th {\n",
       "        text-align: right;\n",
       "    }\n",
       "</style>\n",
       "<table border=\"1\" class=\"dataframe\">\n",
       "  <thead>\n",
       "    <tr style=\"text-align: right;\">\n",
       "      <th>coords_type</th>\n",
       "      <th>all_country_borders_points</th>\n",
       "      <th>all_country_borders_poly</th>\n",
       "    </tr>\n",
       "    <tr>\n",
       "      <th>name_en</th>\n",
       "      <th></th>\n",
       "      <th></th>\n",
       "    </tr>\n",
       "  </thead>\n",
       "  <tbody>\n",
       "    <tr>\n",
       "      <th>Abkhazia</th>\n",
       "      <td>[43.0478382899,41.0424398634]</td>\n",
       "      <td>[[[43.3855385,40.0085526],[43.4243519,40.01014...</td>\n",
       "    </tr>\n",
       "    <tr>\n",
       "      <th>Afghanistan</th>\n",
       "      <td>[33.8312497952,66.0274266802]</td>\n",
       "      <td>[[[36.925945,73.841253],[36.890824,73.815059],...</td>\n",
       "    </tr>\n",
       "    <tr>\n",
       "      <th>Albania</th>\n",
       "      <td>[41.08574876,19.9373854716]</td>\n",
       "      <td>[[[40.0606217,19.3057153],[40.1799986,19.16839...</td>\n",
       "    </tr>\n",
       "    <tr>\n",
       "      <th>Algeria</th>\n",
       "      <td>[28.2644117708,2.68192736543]</td>\n",
       "      <td>[[[35.4152605,8.3176717],[35.4046278,8.3297734...</td>\n",
       "    </tr>\n",
       "    <tr>\n",
       "      <th>Andorra</th>\n",
       "      <td>[42.5455453842,1.57621683525]</td>\n",
       "      <td>[[[42.603722799999986,1.4419909],[42.6130817,1...</td>\n",
       "    </tr>\n",
       "  </tbody>\n",
       "</table>\n",
       "</div>"
      ],
      "text/plain": [
       "coords_type     all_country_borders_points  \\\n",
       "name_en                                      \n",
       "Abkhazia     [43.0478382899,41.0424398634]   \n",
       "Afghanistan  [33.8312497952,66.0274266802]   \n",
       "Albania        [41.08574876,19.9373854716]   \n",
       "Algeria      [28.2644117708,2.68192736543]   \n",
       "Andorra      [42.5455453842,1.57621683525]   \n",
       "\n",
       "coords_type                           all_country_borders_poly  \n",
       "name_en                                                         \n",
       "Abkhazia     [[[43.3855385,40.0085526],[43.4243519,40.01014...  \n",
       "Afghanistan  [[[36.925945,73.841253],[36.890824,73.815059],...  \n",
       "Albania      [[[40.0606217,19.3057153],[40.1799986,19.16839...  \n",
       "Algeria      [[[35.4152605,8.3176717],[35.4046278,8.3297734...  \n",
       "Andorra      [[[42.603722799999986,1.4419909],[42.6130817,1...  "
      ]
     },
     "execution_count": 40,
     "metadata": {},
     "output_type": "execute_result"
    }
   ],
   "source": [
    "df_geo.head()"
   ]
  },
  {
   "cell_type": "code",
   "execution_count": 41,
   "metadata": {},
   "outputs": [],
   "source": [
    "df_geo = df_geo.reset_index()"
   ]
  },
  {
   "cell_type": "code",
   "execution_count": 42,
   "metadata": {},
   "outputs": [],
   "source": [
    "# Для объединения возьмём только геоточки. \n",
    "\n",
    "df_geo = df_geo[['name_en', 'all_country_borders_points']]"
   ]
  },
  {
   "cell_type": "code",
   "execution_count": 43,
   "metadata": {},
   "outputs": [],
   "source": [
    "df_all = df_all.merge(df_geo, left_on='english', right_on='name_en', how='left')"
   ]
  },
  {
   "cell_type": "markdown",
   "metadata": {},
   "source": [
    "## Проверка и выгрузка итогового дата фрейма"
   ]
  },
  {
   "cell_type": "code",
   "execution_count": 44,
   "metadata": {},
   "outputs": [
    {
     "name": "stdout",
     "output_type": "stream",
     "text": [
      "<class 'pandas.core.frame.DataFrame'>\n",
      "RangeIndex: 24967 entries, 0 to 24966\n",
      "Data columns (total 11 columns):\n",
      " #   Column                      Non-Null Count  Dtype  \n",
      "---  ------                      --------------  -----  \n",
      " 0   date                        24967 non-null  object \n",
      " 1   conteiner                   24967 non-null  float64\n",
      " 2   kg                          24967 non-null  object \n",
      " 3   value_usd                   24967 non-null  object \n",
      " 4   country                     24967 non-null  object \n",
      " 5   english                     24967 non-null  object \n",
      " 6   macro_region                24967 non-null  object \n",
      " 7   region                      24967 non-null  object \n",
      " 8   goods_type                  24967 non-null  object \n",
      " 9   name_en                     24967 non-null  object \n",
      " 10  all_country_borders_points  24967 non-null  object \n",
      "dtypes: float64(1), object(10)\n",
      "memory usage: 2.1+ MB\n"
     ]
    }
   ],
   "source": [
    "df_all.info()"
   ]
  },
  {
   "cell_type": "code",
   "execution_count": 45,
   "metadata": {},
   "outputs": [
    {
     "data": {
      "text/html": [
       "<div>\n",
       "<style scoped>\n",
       "    .dataframe tbody tr th:only-of-type {\n",
       "        vertical-align: middle;\n",
       "    }\n",
       "\n",
       "    .dataframe tbody tr th {\n",
       "        vertical-align: top;\n",
       "    }\n",
       "\n",
       "    .dataframe thead th {\n",
       "        text-align: right;\n",
       "    }\n",
       "</style>\n",
       "<table border=\"1\" class=\"dataframe\">\n",
       "  <thead>\n",
       "    <tr style=\"text-align: right;\">\n",
       "      <th></th>\n",
       "      <th>date</th>\n",
       "      <th>conteiner</th>\n",
       "      <th>kg</th>\n",
       "      <th>value_usd</th>\n",
       "      <th>country</th>\n",
       "      <th>english</th>\n",
       "      <th>macro_region</th>\n",
       "      <th>region</th>\n",
       "      <th>goods_type</th>\n",
       "      <th>name_en</th>\n",
       "      <th>all_country_borders_points</th>\n",
       "    </tr>\n",
       "  </thead>\n",
       "  <tbody>\n",
       "    <tr>\n",
       "      <th>0</th>\n",
       "      <td>03.01.2018</td>\n",
       "      <td>0.0</td>\n",
       "      <td>1611000</td>\n",
       "      <td>565461</td>\n",
       "      <td>Бразилия</td>\n",
       "      <td>Brazil</td>\n",
       "      <td>Америка</td>\n",
       "      <td>Южная Америка</td>\n",
       "      <td>сложные и комплексные</td>\n",
       "      <td>Brazil</td>\n",
       "      <td>[-10.8279176405,-52.8483115037]</td>\n",
       "    </tr>\n",
       "    <tr>\n",
       "      <th>1</th>\n",
       "      <td>03.01.2018</td>\n",
       "      <td>0.0</td>\n",
       "      <td>1020000</td>\n",
       "      <td>389640</td>\n",
       "      <td>Венгрия</td>\n",
       "      <td>Hungary</td>\n",
       "      <td>Европа</td>\n",
       "      <td>Восточная Европа</td>\n",
       "      <td>сложные и комплексные</td>\n",
       "      <td>Hungary</td>\n",
       "      <td>[47.1652797826,19.4121477714]</td>\n",
       "    </tr>\n",
       "    <tr>\n",
       "      <th>2</th>\n",
       "      <td>03.01.2018</td>\n",
       "      <td>0.0</td>\n",
       "      <td>960000</td>\n",
       "      <td>343680</td>\n",
       "      <td>Латвия</td>\n",
       "      <td>Latvia</td>\n",
       "      <td>Европа</td>\n",
       "      <td>Северная Европа</td>\n",
       "      <td>сложные и комплексные</td>\n",
       "      <td>Latvia</td>\n",
       "      <td>[56.9091738905,24.5669304062]</td>\n",
       "    </tr>\n",
       "    <tr>\n",
       "      <th>3</th>\n",
       "      <td>03.01.2018</td>\n",
       "      <td>0.0</td>\n",
       "      <td>512000</td>\n",
       "      <td>189440</td>\n",
       "      <td>Литва</td>\n",
       "      <td>Lithuania</td>\n",
       "      <td>Европа</td>\n",
       "      <td>Северная Европа</td>\n",
       "      <td>сложные и комплексные</td>\n",
       "      <td>Lithuania</td>\n",
       "      <td>[55.347247978,23.8004638579]</td>\n",
       "    </tr>\n",
       "    <tr>\n",
       "      <th>4</th>\n",
       "      <td>03.01.2018</td>\n",
       "      <td>0.0</td>\n",
       "      <td>320000</td>\n",
       "      <td>118400</td>\n",
       "      <td>Литва</td>\n",
       "      <td>Lithuania</td>\n",
       "      <td>Европа</td>\n",
       "      <td>Северная Европа</td>\n",
       "      <td>сложные и комплексные</td>\n",
       "      <td>Lithuania</td>\n",
       "      <td>[55.347247978,23.8004638579]</td>\n",
       "    </tr>\n",
       "  </tbody>\n",
       "</table>\n",
       "</div>"
      ],
      "text/plain": [
       "         date  conteiner       kg value_usd   country    english macro_region  \\\n",
       "0  03.01.2018        0.0  1611000    565461  Бразилия     Brazil      Америка   \n",
       "1  03.01.2018        0.0  1020000    389640   Венгрия    Hungary       Европа   \n",
       "2  03.01.2018        0.0   960000    343680    Латвия     Latvia       Европа   \n",
       "3  03.01.2018        0.0   512000    189440     Литва  Lithuania       Европа   \n",
       "4  03.01.2018        0.0   320000    118400     Литва  Lithuania       Европа   \n",
       "\n",
       "             region             goods_type    name_en  \\\n",
       "0     Южная Америка  сложные и комплексные     Brazil   \n",
       "1  Восточная Европа  сложные и комплексные    Hungary   \n",
       "2   Северная Европа  сложные и комплексные     Latvia   \n",
       "3   Северная Европа  сложные и комплексные  Lithuania   \n",
       "4   Северная Европа  сложные и комплексные  Lithuania   \n",
       "\n",
       "        all_country_borders_points  \n",
       "0  [-10.8279176405,-52.8483115037]  \n",
       "1    [47.1652797826,19.4121477714]  \n",
       "2    [56.9091738905,24.5669304062]  \n",
       "3     [55.347247978,23.8004638579]  \n",
       "4     [55.347247978,23.8004638579]  "
      ]
     },
     "execution_count": 45,
     "metadata": {},
     "output_type": "execute_result"
    }
   ],
   "source": [
    "df_all.head()"
   ]
  },
  {
   "cell_type": "markdown",
   "metadata": {},
   "source": [
    "- [x] Данные предоброботаны, всё смэтчилось.  \n",
    "- [x] Типы и разделители оставим как есть и обработаем уже в среде дашборда.\n",
    "\n",
    "Можно выгружать в исходный файл для дашборда. `data_for_YL_dashboard.csv`  \n",
    "Дашборд доступен по ссылке https://datalens.yandex/o8pv5nlhk1wcc "
   ]
  },
  {
   "cell_type": "code",
   "execution_count": 46,
   "metadata": {},
   "outputs": [],
   "source": [
    "df_all.to_csv('data_for_YL_dashboard.csv', sep=';', index=False)"
   ]
  }
 ],
 "metadata": {
  "kernelspec": {
   "display_name": ".venv",
   "language": "python",
   "name": "python3"
  },
  "language_info": {
   "codemirror_mode": {
    "name": "ipython",
    "version": 3
   },
   "file_extension": ".py",
   "mimetype": "text/x-python",
   "name": "python",
   "nbconvert_exporter": "python",
   "pygments_lexer": "ipython3",
   "version": "3.12.2"
  }
 },
 "nbformat": 4,
 "nbformat_minor": 2
}
